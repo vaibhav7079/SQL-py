{
 "cells": [
  {
   "cell_type": "code",
   "execution_count": 2,
   "id": "36b7c2c2",
   "metadata": {},
   "outputs": [],
   "source": [
    "import pypyodbc as odbc\n",
    "import pandas as pd\n"
   ]
  },
  {
   "cell_type": "code",
   "execution_count": 3,
   "id": "f40c3b89",
   "metadata": {},
   "outputs": [],
   "source": [
    "conn = odbc.connect('Driver={SQL Server};'\n",
    "                   'Server=Laptop\\SQLEXPRESS;'\n",
    "                   'Database=Final_Data;'\n",
    "                   'Trusted_Connection=yes;')"
   ]
  },
  {
   "cell_type": "code",
   "execution_count": 4,
   "id": "915bf983",
   "metadata": {},
   "outputs": [],
   "source": [
    "cur = conn.cursor()"
   ]
  },
  {
   "cell_type": "code",
   "execution_count": 5,
   "id": "ffd6b8c4",
   "metadata": {},
   "outputs": [
    {
     "data": {
      "text/plain": [
       "<pypyodbc.Cursor at 0x1d922811b10>"
      ]
     },
     "execution_count": 5,
     "metadata": {},
     "output_type": "execute_result"
    }
   ],
   "source": [
    "cur.execute('SELECT top 10 * FROM Final_Data')"
   ]
  },
  {
   "cell_type": "code",
   "execution_count": 9,
   "id": "2f34be38",
   "metadata": {},
   "outputs": [],
   "source": [
    "cur.close()"
   ]
  },
  {
   "cell_type": "code",
   "execution_count": 26,
   "id": "d2195dcd",
   "metadata": {},
   "outputs": [],
   "source": [
    "conn.close()"
   ]
  },
  {
   "cell_type": "code",
   "execution_count": 10,
   "id": "dbe0c37c",
   "metadata": {},
   "outputs": [
    {
     "name": "stderr",
     "output_type": "stream",
     "text": [
      "C:\\Users\\sudhi\\AppData\\Local\\Temp\\ipykernel_1048\\3017259275.py:1: UserWarning: pandas only supports SQLAlchemy connectable (engine/connection) or database string URI or sqlite3 DBAPI2 connection. Other DBAPI2 objects are not tested. Please consider using SQLAlchemy.\n",
      "  df = pd.read_sql('Select * from Final_Data', conn)\n"
     ]
    }
   ],
   "source": [
    "df = pd.read_sql('Select * from Final_Data', conn)"
   ]
  },
  {
   "cell_type": "code",
   "execution_count": 25,
   "id": "3b48454b",
   "metadata": {},
   "outputs": [
    {
     "data": {
      "text/html": [
       "<div>\n",
       "<style scoped>\n",
       "    .dataframe tbody tr th:only-of-type {\n",
       "        vertical-align: middle;\n",
       "    }\n",
       "\n",
       "    .dataframe tbody tr th {\n",
       "        vertical-align: top;\n",
       "    }\n",
       "\n",
       "    .dataframe thead th {\n",
       "        text-align: right;\n",
       "    }\n",
       "</style>\n",
       "<table border=\"1\" class=\"dataframe\">\n",
       "  <thead>\n",
       "    <tr style=\"text-align: right;\">\n",
       "      <th></th>\n",
       "      <th>itemcount</th>\n",
       "      <th>transactiondate</th>\n",
       "      <th>totalamount</th>\n",
       "      <th>saleamount</th>\n",
       "      <th>salepercent</th>\n",
       "      <th>cash_memo_no</th>\n",
       "      <th>dep1amount</th>\n",
       "      <th>dep2amount</th>\n",
       "      <th>dep3amount</th>\n",
       "      <th>dep4amount</th>\n",
       "      <th>store_id</th>\n",
       "      <th>mcn</th>\n",
       "      <th>custid</th>\n",
       "      <th>gender</th>\n",
       "      <th>location</th>\n",
       "      <th>age</th>\n",
       "      <th>cust_seg</th>\n",
       "      <th>sample_flag</th>\n",
       "      <th>discount</th>\n",
       "    </tr>\n",
       "  </thead>\n",
       "  <tbody>\n",
       "    <tr>\n",
       "      <th>0</th>\n",
       "      <td>2.0</td>\n",
       "      <td>2018-01-26</td>\n",
       "      <td>-80.000000</td>\n",
       "      <td>-77.599998</td>\n",
       "      <td>0.97</td>\n",
       "      <td>2.100720e+19</td>\n",
       "      <td>0.0</td>\n",
       "      <td>-80.0</td>\n",
       "      <td>0.0</td>\n",
       "      <td>0.00000</td>\n",
       "      <td>Store 11</td>\n",
       "      <td>7.000001e+14</td>\n",
       "      <td>7.000001e+14</td>\n",
       "      <td>F</td>\n",
       "      <td>MUM</td>\n",
       "      <td>44.0</td>\n",
       "      <td>1.0</td>\n",
       "      <td>0.0</td>\n",
       "      <td>-2.400002</td>\n",
       "    </tr>\n",
       "    <tr>\n",
       "      <th>1</th>\n",
       "      <td>4.0</td>\n",
       "      <td>2018-02-10</td>\n",
       "      <td>1112.380005</td>\n",
       "      <td>1001.140015</td>\n",
       "      <td>0.90</td>\n",
       "      <td>1.003010e+19</td>\n",
       "      <td>25.9</td>\n",
       "      <td>0.0</td>\n",
       "      <td>112.0</td>\n",
       "      <td>974.47998</td>\n",
       "      <td>Store 49</td>\n",
       "      <td>7.000001e+14</td>\n",
       "      <td>7.000001e+14</td>\n",
       "      <td>M</td>\n",
       "      <td>BLR</td>\n",
       "      <td>77.0</td>\n",
       "      <td>1.0</td>\n",
       "      <td>0.0</td>\n",
       "      <td>111.239990</td>\n",
       "    </tr>\n",
       "    <tr>\n",
       "      <th>2</th>\n",
       "      <td>1.0</td>\n",
       "      <td>2017-09-05</td>\n",
       "      <td>22.000000</td>\n",
       "      <td>21.120001</td>\n",
       "      <td>0.96</td>\n",
       "      <td>2.100210e+19</td>\n",
       "      <td>0.0</td>\n",
       "      <td>0.0</td>\n",
       "      <td>22.0</td>\n",
       "      <td>0.00000</td>\n",
       "      <td>Store 24</td>\n",
       "      <td>7.000001e+14</td>\n",
       "      <td>7.000001e+14</td>\n",
       "      <td>F</td>\n",
       "      <td>BLR</td>\n",
       "      <td>55.0</td>\n",
       "      <td>1.0</td>\n",
       "      <td>0.0</td>\n",
       "      <td>0.879999</td>\n",
       "    </tr>\n",
       "    <tr>\n",
       "      <th>3</th>\n",
       "      <td>2.0</td>\n",
       "      <td>2017-08-05</td>\n",
       "      <td>97.000000</td>\n",
       "      <td>92.150002</td>\n",
       "      <td>0.95</td>\n",
       "      <td>2.100210e+19</td>\n",
       "      <td>0.0</td>\n",
       "      <td>87.0</td>\n",
       "      <td>10.0</td>\n",
       "      <td>0.00000</td>\n",
       "      <td>Store 24</td>\n",
       "      <td>7.000001e+14</td>\n",
       "      <td>7.000001e+14</td>\n",
       "      <td>F</td>\n",
       "      <td>BLR</td>\n",
       "      <td>55.0</td>\n",
       "      <td>1.0</td>\n",
       "      <td>0.0</td>\n",
       "      <td>4.849998</td>\n",
       "    </tr>\n",
       "    <tr>\n",
       "      <th>4</th>\n",
       "      <td>9.0</td>\n",
       "      <td>2017-08-04</td>\n",
       "      <td>432.000000</td>\n",
       "      <td>410.399994</td>\n",
       "      <td>0.95</td>\n",
       "      <td>2.101220e+19</td>\n",
       "      <td>0.0</td>\n",
       "      <td>432.0</td>\n",
       "      <td>0.0</td>\n",
       "      <td>0.00000</td>\n",
       "      <td>Store 27</td>\n",
       "      <td>7.000001e+14</td>\n",
       "      <td>7.000001e+14</td>\n",
       "      <td>F</td>\n",
       "      <td>BLR</td>\n",
       "      <td>55.0</td>\n",
       "      <td>1.0</td>\n",
       "      <td>0.0</td>\n",
       "      <td>21.600006</td>\n",
       "    </tr>\n",
       "  </tbody>\n",
       "</table>\n",
       "</div>"
      ],
      "text/plain": [
       "   itemcount transactiondate  totalamount   saleamount  salepercent  \\\n",
       "0        2.0      2018-01-26   -80.000000   -77.599998         0.97   \n",
       "1        4.0      2018-02-10  1112.380005  1001.140015         0.90   \n",
       "2        1.0      2017-09-05    22.000000    21.120001         0.96   \n",
       "3        2.0      2017-08-05    97.000000    92.150002         0.95   \n",
       "4        9.0      2017-08-04   432.000000   410.399994         0.95   \n",
       "\n",
       "   cash_memo_no  dep1amount  dep2amount  dep3amount  dep4amount  store_id  \\\n",
       "0  2.100720e+19         0.0       -80.0         0.0     0.00000  Store 11   \n",
       "1  1.003010e+19        25.9         0.0       112.0   974.47998  Store 49   \n",
       "2  2.100210e+19         0.0         0.0        22.0     0.00000  Store 24   \n",
       "3  2.100210e+19         0.0        87.0        10.0     0.00000  Store 24   \n",
       "4  2.101220e+19         0.0       432.0         0.0     0.00000  Store 27   \n",
       "\n",
       "            mcn        custid gender location   age  cust_seg  sample_flag  \\\n",
       "0  7.000001e+14  7.000001e+14      F      MUM  44.0       1.0          0.0   \n",
       "1  7.000001e+14  7.000001e+14      M      BLR  77.0       1.0          0.0   \n",
       "2  7.000001e+14  7.000001e+14      F      BLR  55.0       1.0          0.0   \n",
       "3  7.000001e+14  7.000001e+14      F      BLR  55.0       1.0          0.0   \n",
       "4  7.000001e+14  7.000001e+14      F      BLR  55.0       1.0          0.0   \n",
       "\n",
       "     discount  \n",
       "0   -2.400002  \n",
       "1  111.239990  \n",
       "2    0.879999  \n",
       "3    4.849998  \n",
       "4   21.600006  "
      ]
     },
     "execution_count": 25,
     "metadata": {},
     "output_type": "execute_result"
    }
   ],
   "source": [
    "df.head()"
   ]
  },
  {
   "cell_type": "code",
   "execution_count": null,
   "id": "2a66af33",
   "metadata": {},
   "outputs": [],
   "source": []
  }
 ],
 "metadata": {
  "kernelspec": {
   "display_name": "Python 3 (ipykernel)",
   "language": "python",
   "name": "python3"
  },
  "language_info": {
   "codemirror_mode": {
    "name": "ipython",
    "version": 3
   },
   "file_extension": ".py",
   "mimetype": "text/x-python",
   "name": "python",
   "nbconvert_exporter": "python",
   "pygments_lexer": "ipython3",
   "version": "3.10.9"
  }
 },
 "nbformat": 4,
 "nbformat_minor": 5
}
