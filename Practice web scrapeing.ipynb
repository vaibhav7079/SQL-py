{
 "cells": [
  {
   "cell_type": "code",
   "execution_count": 150,
   "id": "faf3e8f2",
   "metadata": {},
   "outputs": [],
   "source": [
    "import requests\n",
    "import pandas as pd\n",
    "import streamlit as st"
   ]
  },
  {
   "cell_type": "code",
   "execution_count": 3,
   "id": "ab91c0fa",
   "metadata": {},
   "outputs": [],
   "source": [
    "from bs4 import BeautifulSoup"
   ]
  },
  {
   "cell_type": "code",
   "execution_count": 9,
   "id": "9c291b40",
   "metadata": {},
   "outputs": [],
   "source": [
    "headers = {\n",
    "    'User-Agent': 'Mozilla/5.0 (Windows NT 10.0; Win64; x64; rv:106.0) Gecko/20100101 Firefox/106.0',\n",
    "    'Accept': 'text/html,application/xhtml+xml,application/xml;q=0.9,image/avif,image/webp,*/*;q=0.8',\n",
    "    'Accept-Language': 'en-US,en;q=0.5',\n",
    "    # 'Accept-Encoding': 'gzip, deflate, br',\n",
    "    \n",
    "}"
   ]
  },
  {
   "cell_type": "code",
   "execution_count": 10,
   "id": "24a5e6a8",
   "metadata": {},
   "outputs": [],
   "source": [
    "response = requests.get(\"https://www.imdb.com/search/title/?genres=action&sort=user_rating,desc&groups=top_250\",headers = headers)"
   ]
  },
  {
   "cell_type": "code",
   "execution_count": 11,
   "id": "54d35eb4",
   "metadata": {},
   "outputs": [
    {
     "data": {
      "text/plain": [
       "200"
      ]
     },
     "execution_count": 11,
     "metadata": {},
     "output_type": "execute_result"
    }
   ],
   "source": [
    "response.status_code"
   ]
  },
  {
   "cell_type": "code",
   "execution_count": 13,
   "id": "0ef31484",
   "metadata": {},
   "outputs": [],
   "source": [
    "soup = BeautifulSoup(response.text,\"html.parser\")"
   ]
  },
  {
   "cell_type": "code",
   "execution_count": 33,
   "id": "7fc09f72",
   "metadata": {},
   "outputs": [],
   "source": [
    "movie_box = soup.find_all(class_=\"ipc-metadata-list-summary-item__c\")"
   ]
  },
  {
   "cell_type": "code",
   "execution_count": 78,
   "id": "ab794da9",
   "metadata": {},
   "outputs": [
    {
     "data": {
      "text/plain": [
       "50"
      ]
     },
     "execution_count": 78,
     "metadata": {},
     "output_type": "execute_result"
    }
   ],
   "source": [
    "len(movie_box)"
   ]
  },
  {
   "cell_type": "code",
   "execution_count": 93,
   "id": "f4918c84",
   "metadata": {},
   "outputs": [
    {
     "data": {
      "text/plain": [
       "'Star Wars: Episode VI - Return of the Jedi'"
      ]
     },
     "execution_count": 93,
     "metadata": {},
     "output_type": "execute_result"
    }
   ],
   "source": [
    "movie_box[24].find(class_=\"ipc-title__text\").text.split(\".\")[1].strip()"
   ]
  },
  {
   "cell_type": "code",
   "execution_count": 94,
   "id": "49553778",
   "metadata": {},
   "outputs": [],
   "source": [
    "movie_name = [(x.find(class_=\"ipc-title__text\").text.split(\".\")[1].strip()) for x in movie_box]"
   ]
  },
  {
   "cell_type": "code",
   "execution_count": 140,
   "id": "12b19ee7",
   "metadata": {},
   "outputs": [
    {
     "data": {
      "text/plain": [
       "'2008'"
      ]
     },
     "execution_count": 140,
     "metadata": {},
     "output_type": "execute_result"
    }
   ],
   "source": [
    "movie_box[0].find(class_='sc-b0691f29-8 ilsLEX dli-title-metadata-item').text"
   ]
  },
  {
   "cell_type": "code",
   "execution_count": 141,
   "id": "6335e954",
   "metadata": {},
   "outputs": [],
   "source": [
    "movie_year = [ x.find(class_='sc-b0691f29-8 ilsLEX dli-title-metadata-item').text for x in movie_box]"
   ]
  },
  {
   "cell_type": "code",
   "execution_count": 137,
   "id": "9b22d95f",
   "metadata": {},
   "outputs": [
    {
     "data": {
      "text/plain": [
       "<span class=\"sc-b0691f29-8 ilsLEX dli-title-metadata-item\">2h 32m</span>"
      ]
     },
     "execution_count": 137,
     "metadata": {},
     "output_type": "execute_result"
    }
   ],
   "source": [
    "movie_box[0].find_all(class_ = 'sc-b0691f29-8 ilsLEX dli-title-metadata-item')[1]"
   ]
  },
  {
   "cell_type": "code",
   "execution_count": 100,
   "id": "69b92795",
   "metadata": {},
   "outputs": [],
   "source": [
    "movie_year = [x.find(class_='sc-b0691f29-8 ilsLEX dli-title-metadata-item').text for x in movie_box]"
   ]
  },
  {
   "cell_type": "code",
   "execution_count": 109,
   "id": "dc62076e",
   "metadata": {},
   "outputs": [
    {
     "data": {
      "text/plain": [
       "'PG-13'"
      ]
     },
     "execution_count": 109,
     "metadata": {},
     "output_type": "execute_result"
    }
   ],
   "source": [
    "movie_box[0].find_all(class_ = 'sc-b0691f29-8 ilsLEX dli-title-metadata-item')[2].text"
   ]
  },
  {
   "cell_type": "code",
   "execution_count": 107,
   "id": "b022397b",
   "metadata": {},
   "outputs": [],
   "source": [
    "movie_year = [x.find_all(class_='sc-b0691f29-8 ilsLEX dli-title-metadata-item')[1].text for x in movie_box]"
   ]
  },
  {
   "cell_type": "code",
   "execution_count": 111,
   "id": "1de44e99",
   "metadata": {},
   "outputs": [],
   "source": [
    "movie_rating = [x.find_all(class_='sc-b0691f29-8 ilsLEX dli-title-metadata-item')[2].text for x in movie_box]"
   ]
  },
  {
   "cell_type": "code",
   "execution_count": 120,
   "id": "4306462c",
   "metadata": {},
   "outputs": [
    {
     "data": {
      "text/plain": [
       "'After being kidnapped and imprisoned for fifteen years, Oh Dae-Su is released, only to find that he must find his captor in five days.'"
      ]
     },
     "execution_count": 120,
     "metadata": {},
     "output_type": "execute_result"
    }
   ],
   "source": [
    "movie_box[23].find(class_=\"ipc-html-content-inner-div\").text"
   ]
  },
  {
   "cell_type": "code",
   "execution_count": 115,
   "id": "5bb8c400",
   "metadata": {},
   "outputs": [],
   "source": [
    "movie_summary = [x.find(class_=\"ipc-html-content-inner-div\").text for x in movie_box]"
   ]
  },
  {
   "cell_type": "code",
   "execution_count": 118,
   "id": "7aa6afbc",
   "metadata": {},
   "outputs": [
    {
     "data": {
      "text/plain": [
       "'After being kidnapped and imprisoned for fifteen years, Oh Dae-Su is released, only to find that he must find his captor in five days.'"
      ]
     },
     "execution_count": 118,
     "metadata": {},
     "output_type": "execute_result"
    }
   ],
   "source": [
    "movie_summary[23]"
   ]
  },
  {
   "cell_type": "code",
   "execution_count": 127,
   "id": "1bdd5bcc",
   "metadata": {},
   "outputs": [
    {
     "data": {
      "text/plain": [
       "'9.0'"
      ]
     },
     "execution_count": 127,
     "metadata": {},
     "output_type": "execute_result"
    }
   ],
   "source": [
    "movie_box[0].find(class_='ipc-rating-star ipc-rating-star--base ipc-rating-star--imdb ratingGroup--imdb-rating').text[:3]"
   ]
  },
  {
   "cell_type": "code",
   "execution_count": 139,
   "id": "0794efae",
   "metadata": {},
   "outputs": [],
   "source": [
    "movie_duration = movie_year"
   ]
  },
  {
   "cell_type": "code",
   "execution_count": 128,
   "id": "9f9cc345",
   "metadata": {},
   "outputs": [],
   "source": [
    "movie_imdb_rateing = [x.find(class_='ipc-rating-star ipc-rating-star--base ipc-rating-star--imdb ratingGroup--imdb-rating').text[:3]\n",
    "                     for x in movie_box]"
   ]
  },
  {
   "cell_type": "code",
   "execution_count": null,
   "id": "2b4e9782",
   "metadata": {},
   "outputs": [],
   "source": []
  },
  {
   "cell_type": "code",
   "execution_count": 133,
   "id": "c4d21a87",
   "metadata": {},
   "outputs": [
    {
     "data": {
      "text/plain": [
       "'919K'"
      ]
     },
     "execution_count": 133,
     "metadata": {},
     "output_type": "execute_result"
    }
   ],
   "source": [
    "movie_box[45].find(class_='ipc-rating-star ipc-rating-star--base ipc-rating-star--imdb ratingGroup--imdb-rating').text.split(\"\\xa0\")[1].replace(\"(\",\"\").replace(')',\"\")"
   ]
  },
  {
   "cell_type": "code",
   "execution_count": 134,
   "id": "c8ed45b3",
   "metadata": {},
   "outputs": [],
   "source": [
    "movie_rated_by = [x.find(class_='ipc-rating-star ipc-rating-star--base ipc-rating-star--imdb ratingGroup--imdb-rating').text.split(\"\\xa0\")[1].replace(\"(\",\"\").replace(')',\"\")\n",
    "                 for x in movie_box]"
   ]
  },
  {
   "cell_type": "code",
   "execution_count": 145,
   "id": "1dd45cd6",
   "metadata": {},
   "outputs": [],
   "source": [
    "scaped=pd.DataFrame({\n",
    "    \"Movie_Name\" : movie_name,\n",
    "    \"Movie_year\" : movie_year,\n",
    "    \"Movie_duration\" : movie_duration,\n",
    "    \"Movie_rating\" : movie_imdb_rateing,\n",
    "    \"Movie_summary\" : movie_summary\n",
    "})"
   ]
  },
  {
   "cell_type": "code",
   "execution_count": 147,
   "id": "721c7e81",
   "metadata": {},
   "outputs": [
    {
     "data": {
      "text/html": [
       "<div>\n",
       "<style scoped>\n",
       "    .dataframe tbody tr th:only-of-type {\n",
       "        vertical-align: middle;\n",
       "    }\n",
       "\n",
       "    .dataframe tbody tr th {\n",
       "        vertical-align: top;\n",
       "    }\n",
       "\n",
       "    .dataframe thead th {\n",
       "        text-align: right;\n",
       "    }\n",
       "</style>\n",
       "<table border=\"1\" class=\"dataframe\">\n",
       "  <thead>\n",
       "    <tr style=\"text-align: right;\">\n",
       "      <th></th>\n",
       "      <th>Movie_Name</th>\n",
       "      <th>Movie_year</th>\n",
       "      <th>Movie_duration</th>\n",
       "      <th>Movie_rating</th>\n",
       "      <th>Movie_summary</th>\n",
       "    </tr>\n",
       "  </thead>\n",
       "  <tbody>\n",
       "    <tr>\n",
       "      <th>0</th>\n",
       "      <td>The Dark Knight</td>\n",
       "      <td>2008</td>\n",
       "      <td>2h 32m</td>\n",
       "      <td>9.0</td>\n",
       "      <td>When the menace known as the Joker wreaks havo...</td>\n",
       "    </tr>\n",
       "    <tr>\n",
       "      <th>1</th>\n",
       "      <td>The Lord of the Rings: The Return of the King</td>\n",
       "      <td>2003</td>\n",
       "      <td>3h 21m</td>\n",
       "      <td>9.0</td>\n",
       "      <td>Gandalf and Aragorn lead the World of Men agai...</td>\n",
       "    </tr>\n",
       "    <tr>\n",
       "      <th>2</th>\n",
       "      <td>Dune: Part Two</td>\n",
       "      <td>2024</td>\n",
       "      <td>2h 46m</td>\n",
       "      <td>8.9</td>\n",
       "      <td>Paul Atreides unites with Chani and the Fremen...</td>\n",
       "    </tr>\n",
       "    <tr>\n",
       "      <th>3</th>\n",
       "      <td>The Lord of the Rings: The Fellowship of the Ring</td>\n",
       "      <td>2001</td>\n",
       "      <td>2h 58m</td>\n",
       "      <td>8.9</td>\n",
       "      <td>A meek Hobbit from the Shire and eight compani...</td>\n",
       "    </tr>\n",
       "    <tr>\n",
       "      <th>4</th>\n",
       "      <td>Inception</td>\n",
       "      <td>2010</td>\n",
       "      <td>2h 28m</td>\n",
       "      <td>8.8</td>\n",
       "      <td>A thief who steals corporate secrets through t...</td>\n",
       "    </tr>\n",
       "  </tbody>\n",
       "</table>\n",
       "</div>"
      ],
      "text/plain": [
       "                                          Movie_Name Movie_year  \\\n",
       "0                                    The Dark Knight       2008   \n",
       "1      The Lord of the Rings: The Return of the King       2003   \n",
       "2                                     Dune: Part Two       2024   \n",
       "3  The Lord of the Rings: The Fellowship of the Ring       2001   \n",
       "4                                          Inception       2010   \n",
       "\n",
       "  Movie_duration Movie_rating  \\\n",
       "0         2h 32m          9.0   \n",
       "1         3h 21m          9.0   \n",
       "2         2h 46m          8.9   \n",
       "3         2h 58m          8.9   \n",
       "4         2h 28m          8.8   \n",
       "\n",
       "                                       Movie_summary  \n",
       "0  When the menace known as the Joker wreaks havo...  \n",
       "1  Gandalf and Aragorn lead the World of Men agai...  \n",
       "2  Paul Atreides unites with Chani and the Fremen...  \n",
       "3  A meek Hobbit from the Shire and eight compani...  \n",
       "4  A thief who steals corporate secrets through t...  "
      ]
     },
     "execution_count": 147,
     "metadata": {},
     "output_type": "execute_result"
    }
   ],
   "source": [
    "scaped.head()"
   ]
  },
  {
   "cell_type": "code",
   "execution_count": 149,
   "id": "485333a9",
   "metadata": {},
   "outputs": [
    {
     "data": {
      "text/plain": [
       "Movie_Name                                          The Dark Knight\n",
       "Movie_year                                                     2008\n",
       "Movie_duration                                               2h 32m\n",
       "Movie_rating                                                    9.0\n",
       "Movie_summary     When the menace known as the Joker wreaks havo...\n",
       "Name: 0, dtype: object"
      ]
     },
     "execution_count": 149,
     "metadata": {},
     "output_type": "execute_result"
    }
   ],
   "source": [
    "scaped.iloc[0]"
   ]
  },
  {
   "cell_type": "code",
   "execution_count": 153,
   "id": "54f33a2c",
   "metadata": {},
   "outputs": [],
   "source": [
    "pd.to_pickle(scaped,\"C:\\\\Users\\\\sudhi\\\\OneDrive\\\\Desktop\\\\Analytics Labs\\\\Practice\\\\web_scrape.pkl\")"
   ]
  },
  {
   "cell_type": "code",
   "execution_count": 168,
   "id": "5159f9ad",
   "metadata": {},
   "outputs": [],
   "source": [
    "y=scaped.loc[(scaped['Movie_Name']=='The Dark Knight')]"
   ]
  },
  {
   "cell_type": "code",
   "execution_count": 173,
   "id": "484a8bac",
   "metadata": {},
   "outputs": [
    {
     "data": {
      "text/plain": [
       "'The Dark Knight'"
      ]
     },
     "execution_count": 173,
     "metadata": {},
     "output_type": "execute_result"
    }
   ],
   "source": [
    "y['Movie_Name'][0]"
   ]
  },
  {
   "cell_type": "code",
   "execution_count": null,
   "id": "5e6035a3",
   "metadata": {},
   "outputs": [],
   "source": [
    "y['M']"
   ]
  }
 ],
 "metadata": {
  "kernelspec": {
   "display_name": "Python 3 (ipykernel)",
   "language": "python",
   "name": "python3"
  },
  "language_info": {
   "codemirror_mode": {
    "name": "ipython",
    "version": 3
   },
   "file_extension": ".py",
   "mimetype": "text/x-python",
   "name": "python",
   "nbconvert_exporter": "python",
   "pygments_lexer": "ipython3",
   "version": "3.10.9"
  }
 },
 "nbformat": 4,
 "nbformat_minor": 5
}
